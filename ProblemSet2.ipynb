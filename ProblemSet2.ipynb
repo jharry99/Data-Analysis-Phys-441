{
 "cells": [
  {
   "cell_type": "code",
   "execution_count": 278,
   "id": "318c0eeb",
   "metadata": {},
   "outputs": [],
   "source": [
    "import numpy as np\n",
    "import matplotlib.pyplot as plt"
   ]
  },
  {
   "cell_type": "code",
   "execution_count": 279,
   "id": "1c2ee946",
   "metadata": {},
   "outputs": [],
   "source": [
    "%matplotlib inline"
   ]
  },
  {
   "cell_type": "markdown",
   "id": "903a6a1f",
   "metadata": {},
   "source": [
    "# Problem Set 2\n",
    "\n",
    "### PHYS 441\n",
    "\n",
    "***\n",
    "\n",
    "Adam A Miller  \n",
    "05 October 2022\n",
    "version 0.1"
   ]
  },
  {
   "cell_type": "markdown",
   "id": "77536135",
   "metadata": {},
   "source": [
    "Problem sets for Phys 441 are due 1 week after they are assigned at 11:59 pm. \n",
    "\n",
    "Every student is responsible for submitting their own *individual* solutions. Solutions must be either an executable jupyter notebook or Adobe PDF file submitted via Canvas."
   ]
  },
  {
   "cell_type": "markdown",
   "id": "1b99b503",
   "metadata": {},
   "source": [
    "If you wish to \"write mathematics\" in a Jupyter notebook, this can be done using LaTeX formatting.\n",
    "\n",
    "LaTeX is great at typesetting mathematics. Let $X_1, X_2, \\ldots, X_n$ be a sequence of independent and identically distributed random variables with $\\text{E}[X_i] = \\mu$ and $\\text{Var}[X_i] = \\sigma^2 < \\infty$, and let\n",
    "\n",
    "$$S_n = \\frac{X_1 + X_2 + \\cdots + X_n}{n}\n",
    "      = \\frac{1}{n}\\sum_{i}^{n} X_i\\$$\n",
    "      \n",
    "denote their mean. Then as $n$ approaches infinity, the random variables $\\sqrt{n}(S_n - \\mu)$ converge in distribution to a normal $\\mathcal{N}(0, \\sigma^2)$.\n",
    "\n",
    "You can find a [summary of all the LaTeX math symbols](https://www.overleaf.com/learn/latex/List_of_Greek_letters_and_math_symbols) from Overleaf. "
   ]
  },
  {
   "cell_type": "markdown",
   "id": "f343cef3",
   "metadata": {},
   "source": [
    "## Problem 1)\n",
    "\n",
    "Suppose the probability function for a random variable $X$ is described by\n",
    "\n",
    "$$f(x) = \\begin{cases} cx^3 & \\text{0 $\\leq$ x $\\leq$ 4} \\\\\n",
    " 0 & \\text{otherwise} \\end{cases}$$\n",
    " \n",
    "**Problem 1a**\n",
    "What is the value of $c$?"
   ]
  },
  {
   "cell_type": "markdown",
   "id": "e4f2db0c",
   "metadata": {},
   "source": [
    "To find $c$, note the normalization condition\n",
    "$\\int_{-\\infty}^\\infty f(x)dx=1$<br>\n",
    "The probability function is only nontrivial over $0\\le x\\le4$, so that<br>\n",
    "$\\int_{0}^4 f(x)dx=1\\implies \\int_0^4 cx^3dx=c\\frac{x^4}{4}\\Big|_0^4=c(4^4/4)=64c=1\\implies c=1/64$<br>"
   ]
  },
  {
   "cell_type": "markdown",
   "id": "66adbf76",
   "metadata": {},
   "source": [
    "**Problem 1b**\n",
    "\n",
    "What is the cumulative distribution function $F(x)$?"
   ]
  },
  {
   "cell_type": "markdown",
   "id": "b9233784",
   "metadata": {},
   "source": [
    "$F(x)=\\int_{-\\infty}^x f(x')dx'=\\frac{1}{64}\\int_{-\\infty}^x (x')^3dx'$<br>\n",
    "$f(x')$ is only nontrivial in $0\\le x'\\le4$, so\n",
    "$F(x)=\\frac{1}{64}\\int_{0}^x (x')^3dx'=\\frac{1}{256}x^4$<br>\n",
    "(we restrict $F(x)$ to the same $x$ range as $f(x)$, such that $x\\le 4$ in the integral bounds)<br><br>\n",
    "As a confirmation, $\\lim_{x\\to 0}F(x)=0$ at the lower boundary $x=0$, and $\\lim_{x\\to 4}F(x)=\\frac{1}{256}(4)^4=1$ at the upper boundary $x=4$.\n"
   ]
  },
  {
   "cell_type": "markdown",
   "id": "f4ce1d63",
   "metadata": {},
   "source": [
    "**Problem 1c**\n",
    "\n",
    "Calculate the mean for $f(x)$."
   ]
  },
  {
   "cell_type": "markdown",
   "id": "089a41dd",
   "metadata": {},
   "source": [
    "$\\mu=\\int_{-\\infty}^\\infty xf(x)dx=\\int_0^4 x\\left(\\frac{1}{64}x^3\\right)dx=\\frac{1}{64}\\frac{x^5}{5}\\Big|_0^4=\\frac{16}{5}$\n",
    "\n"
   ]
  },
  {
   "cell_type": "markdown",
   "id": "3c74e2b5",
   "metadata": {},
   "source": [
    "## Problem 2)\n",
    "\n",
    "Let $X$ and $Y$ be independent variables with variances $\\sigma_x^2$ and $\\sigma_y^2$. \n",
    "\n",
    "Let $Z = X + Y$. \n",
    "\n",
    "**Problem 2a**\n",
    "\n",
    "What is the variance $\\sigma_z^2$?"
   ]
  },
  {
   "cell_type": "markdown",
   "id": "410a8d56",
   "metadata": {},
   "source": [
    "$\\sigma_f^2\\approx \\sum_{i=1}^2 \\left(\\frac{\\partial f}{\\partial x_i}\\right)^2_{\\vec{x}=\\vec{\\mu}}\\sigma_i^2$<br>\n",
    "\n",
    "$f=Z=X+Y\\implies \\sigma_z^2\\approx \\sum_{i=1}^2 \\left(\\frac{\\partial Z}{\\partial x_i}\\right)^2_{\\vec{x}=\\vec{\\mu}}\\sigma_i^2=\\left(\\frac{\\partial Z}{\\partial X}\\right)^2_{\\vec{x}=\\vec{\\mu}}\\sigma_x^2+\\left(\\frac{\\partial Z}{\\partial Y}\\right)^2_{\\vec{x}=\\vec{\\mu}}\\sigma_y^2=1\\cdot\\sigma_x^2+1\\cdot\\sigma_y^2=\\sigma_x^2+\\sigma_y^2$"
   ]
  },
  {
   "cell_type": "markdown",
   "id": "cbca4887",
   "metadata": {},
   "source": [
    "**Problem 2b**\n",
    "\n",
    "What is the covariance $\\sigma^2_{zx}$?"
   ]
  },
  {
   "cell_type": "markdown",
   "id": "45aa807f",
   "metadata": {},
   "source": [
    "It's useful to use the distributive property of covariances here:<br>\n",
    "$\\text{cov}[a+b,c]=\\text{cov}[a,c]+\\text{cov}[b,c]$<br><br>\n",
    "In our case, this means that<br>\n",
    "$\\text{cov}[Z,X]=\\text{cov}[X+Y,X]=\\text{cov}[X,X]+\\text{cov}[Y,X]$<br><br>\n",
    "However, since $X$ and $Y$ are independent variables, they have no covariance between them: $\\text{cov}[Y,X]=0$<br>\n",
    "The covariance of a random variable with itself is just its variance ($\\text{cov}[X,X]=\\sigma_x^2$), so we have<br>\n",
    "$\\sigma_{zx}^2=\\sigma_x^2$\n"
   ]
  },
  {
   "cell_type": "markdown",
   "id": "ffbd1ac8",
   "metadata": {},
   "source": [
    "## Problem 3)\n",
    "\n",
    "Consider the following array of data:\n",
    "\n",
    "[12.849, 9.185, 6.973, 0.727, 11.376, 0.881, 18.355, 13.544, 16.946, 16.907, 9.959, 4.328, 5.435, 33.384, 4.128, 5.882, 3.58,  4.405, 5.438, 9.55, 5.508, 5.183, 3.988, 8.082, 1.927]\n",
    "\n",
    "(you may conveniently execute the cell below to load these data into an array called `dat`"
   ]
  },
  {
   "cell_type": "code",
   "execution_count": 280,
   "id": "4dfbded5",
   "metadata": {},
   "outputs": [],
   "source": [
    "import numpy as np\n",
    "dat = np.array([12.849, 9.185, 6.973, 0.727, 11.376, 0.881, 18.355, 13.544, 16.946, 16.907, 9.959, 4.328, 5.435, 33.384, 4.128, 5.882, 3.58,  4.405, 5.438, 9.55, 5.508, 5.183, 3.988, 8.082, 1.927])"
   ]
  },
  {
   "cell_type": "markdown",
   "id": "8370fbbf",
   "metadata": {},
   "source": [
    "**Problem 3a**\n",
    "\n",
    "Estimate the p.d.f. for these data by displaying them as a histogram.\n",
    "\n",
    "*Hint – use the default settings for whatever plotting program you are using*"
   ]
  },
  {
   "cell_type": "code",
   "execution_count": 281,
   "id": "1ac09029",
   "metadata": {},
   "outputs": [
    {
     "data": {
      "image/png": "[encoded data removed]",
      "text/plain": [
       "<Figure size 432x288 with 1 Axes>"
      ]
     },
     "metadata": {
      "needs_background": "light"
     },
     "output_type": "display_data"
    }
   ],
   "source": [
    "import matplotlib.pyplot as plt\n",
    "plt.hist(dat, density=True, edgecolor='black') #the density argument normalizes the pdf\n",
    "plt.xlabel(r'$x$');\n",
    "plt.ylabel(r'$N(x)$');"
   ]
  },
  {
   "cell_type": "markdown",
   "id": "80466742",
   "metadata": {},
   "source": [
    "**Problem 3b**\n",
    "\n",
    "Using the same data plot two new histograms, but adjust the plotting parameters – in the first set the total number of bins equal to 6, in the second center the bars on the right edge of the bins. \n",
    "\n",
    "*Hint* – the latter can be done by setting `align = right`."
   ]
  },
  {
   "cell_type": "code",
   "execution_count": 282,
   "id": "44450393",
   "metadata": {},
   "outputs": [
    {
     "data": {
      "image/png": "[encoded data removed]",
      "text/plain": [
       "<Figure size 432x288 with 1 Axes>"
      ]
     },
     "metadata": {
      "needs_background": "light"
     },
     "output_type": "display_data"
    }
   ],
   "source": [
    "plt.hist(dat, bins=6, density=True, edgecolor='black') #the density argument normalizes the pdf\n",
    "plt.xlabel(r'$x$');\n",
    "plt.ylabel(r'$N(x)$');"
   ]
  },
  {
   "cell_type": "code",
   "execution_count": 283,
   "metadata": {},
   "outputs": [
    {
     "data": {
      "image/png": "[encoded data removed]",
      "text/plain": [
       "<Figure size 432x288 with 1 Axes>"
      ]
     },
     "metadata": {
      "needs_background": "light"
     },
     "output_type": "display_data"
    }
   ],
   "source": [
    "plt.hist(dat, align='right', density=True, edgecolor='black') #the density argument normalizes the pdf\n",
    "plt.xlabel(r'$x$');\n",
    "plt.ylabel(r'$N(x)$');"
   ]
  },
  {
   "cell_type": "markdown",
   "id": "b9dd92d8",
   "metadata": {},
   "source": [
    "**Problem 3c**\n",
    "\n",
    "You now have 3 different estimates for $f(x)$, but they are all very different. Does this make sense? Which of the three estimates is best? "
   ]
  },
  {
   "cell_type": "markdown",
   "id": "407e5ef4",
   "metadata": {},
   "source": [
    "*write your answer here*\n",
    "\n"
   ]
  },
  {
   "cell_type": "markdown",
   "id": "9d14675f",
   "metadata": {},
   "source": [
    "Here we have demonstrated one of the major challenges with using histograms to try and estimate p.d.f.s: production of the histogram requires user specified input which affects the output. Given that reasonable people may disagree on what parameters are reasonable, perhaps histograms are not the best tool for analysis (i.e., do not fit models to histograms).\n",
    "\n",
    "For example, do you think it makes sense that $P(X = 25) = 0$? Each of the above histograms shows this is the case, but the true probability is likely greater than 0."
   ]
  },
  {
   "cell_type": "markdown",
   "id": "742f17a1",
   "metadata": {},
   "source": [
    "**Problem 3d**\n",
    "\n",
    "Replot the histogram with a variable bin width such that each bin contains exactly 5 sources. Note – it is important that the histogram be normalized for this problem if you previously were not doing that. \n",
    "\n",
    "Is this representation better?"
   ]
  },
  {
   "cell_type": "code",
   "execution_count": 284,
   "id": "78400f57",
   "metadata": {},
   "outputs": [
    {
     "data": {
      "image/png": "[encoded data removed]",
      "text/plain": [
       "<Figure size 432x288 with 1 Axes>"
      ]
     },
     "metadata": {
      "needs_background": "light"
     },
     "output_type": "display_data"
    }
   ],
   "source": [
    "varbins = dat[np.argsort(dat)[0::5]] # Sort the data, then take every fifth point of the sorted data (starting from/including the first point)\n",
    "varbins = np.append(varbins, dat[np.argsort(dat)[-1]]) # Define the bin boundaries as being between each fifth point, and the element before the subsequent fifth point\n",
    "plt.hist(dat, bins=varbins, edgecolor='black', density=True)\n",
    "plt.xlabel(r'$x$');\n",
    "plt.ylabel(r'$N(x)$');"
   ]
  },
  {
   "cell_type": "markdown",
   "id": "8431190b",
   "metadata": {},
   "source": [
    "This representation seems better because it allows nonzero probabilities for every $x$ in our range (except at the bin boundaries technically).\n"
   ]
  },
  {
   "cell_type": "markdown",
   "id": "fe5e1aeb",
   "metadata": {},
   "source": [
    "## Problem 4)\n",
    "\n",
    "Execute the cell below to load samples from the joint p.d.f. $f(x, y)$ into an array called `z`."
   ]
  },
  {
   "cell_type": "code",
   "execution_count": 285,
   "id": "bb51562d",
   "metadata": {},
   "outputs": [],
   "source": [
    "z = np.array([[2.4630e+00, 4.1940e+00], [-1.2260e+00, 3.2910e+00], [-8.1600e-01, 4.3470e+00], [3.1040e+00, 4.9180e+00], [3.3880e+00, 4.7000e+00], [1.3470e+00, 3.7620e+00], [3.9970e+00, 2.0420e+00], [1.5140e+00, 1.7440e+00], [1.0730e+00, 1.4790e+00], [2.2650e+00, 2.2700e+00], [1.4230e+00, 2.4090e+00], [1.9440e+00, 1.6090e+00], [1.6800e+00, 5.0000e-03], [1.3210e+00, 6.0590e+00], [5.8850e+00, 2.3880e+00], [-5.3300e-01, 1.0820e+00], [4.3760e+00, 1.7210e+00], [9.1200e-01, 7.7560e+00], [2.1730e+00, 4.2700e+00], [-8.6400e-01, 2.0420e+00], [1.1080e+00, 5.4400e+00], [2.2010e+00, 3.6520e+00], [4.1730e+00, 6.9550e+00], [1.2990e+00, 4.7300e-01], [4.5800e-01, 5.5530e+00], [2.2000e+00, 2.0840e+00], [-1.8100e-01, 3.7700e-01], [1.8990e+00, 8.5000e-01], [3.1210e+00, 1.5800e+00], [2.8250e+00, 3.1500e+00], [3.0160e+00, 2.6770e+00], [6.1100e-01, 2.9480e+00], [3.7020e+00, 5.4580e+00], [2.4650e+00, 8.0780e+00], [-1.7200e-01, 1.9700e+00], [-9.3800e-01, 5.3640e+00], [9.1700e-01, 4.2460e+00], [2.0840e+00, 2.8930e+00], [1.3280e+00, 1.7470e+00], [1.6880e+00, 2.0630e+00], [-2.6200e-01, 4.3720e+00], [1.2300e+00, 2.5860e+00], [8.9900e-01, 5.7210e+00], [3.3200e+00, 6.5390e+00], [1.5000e+00, 6.7490e+00], [2.7380e+00, 4.7300e+00], [1.2020e+00, 2.9100e-01], [5.3100e-01, 2.1660e+00], [-2.1700e-01, 1.5490e+00], [2.3260e+00, 1.8980e+00], [-3.9000e-01, 1.5480e+00], [1.7920e+00, 5.3970e+00], [1.6840e+00, 3.1040e+00], [2.6750e+00, 1.6870e+00], [1.8850e+00, 1.8140e+00], [-6.9000e-01, 7.7000e-02], [4.5300e+00, 1.7850e+00], [4.7290e+00, 3.0530e+00], [2.7600e+00, 3.9260e+00], [1.7990e+00, 1.7040e+00], [4.1630e+00, 6.7770e+00], [1.1670e+00, 1.6900e+00], [1.6780e+00, 6.0740e+00], [1.0100e+00, 5.2150e+00], [4.2950e+00, 4.1230e+00], [2.5810e+00, 4.8170e+00], [1.9240e+00, 3.3280e+00], [3.6240e+00, 2.7350e+00], [2.9010e+00, 5.4980e+00], [9.1200e-01, 2.8800e-01], [2.1580e+00, 3.6530e+00], [2.5240e+00, 1.3600e-01], [1.0620e+00, 9.0140e+00], [4.2600e+00, 2.8480e+00], [1.3140e+00, 2.1440e+00], [2.8340e+00, 3.2750e+00], [3.2360e+00, 1.9060e+00], [2.3510e+00, 1.3650e+00], [1.8880e+00, 3.8510e+00], [2.1790e+00, 3.8550e+00], [1.7500e+00, 6.0470e+00], [6.8000e-02, 3.1590e+00], [1.3380e+00, 5.3700e-01], [3.7300e-01, 3.1400e-01], [9.3000e-01, 1.3400e-01], [3.3400e+00, 3.0910e+00], [1.1560e+00, 1.2890e+00], [4.1630e+00, 4.6790e+00], [4.2600e-01, 6.3940e+00], [2.6310e+00, 1.7540e+00], [2.6640e+00, 5.0410e+00], [2.4110e+00, 3.5480e+00], [1.9990e+00, 1.2610e+00], [1.7680e+00, 4.8720e+00], [-1.5900e+00, 6.1290e+00], [4.2570e+00, 1.9640e+00], [4.2530e+00, 4.6850e+00], [4.0700e-01, 3.5400e+00], [3.9570e+00, 1.5860e+00], [1.4400e-01, 9.2000e-01], [7.6100e-01, 7.2300e-01], [2.6790e+00, 1.9560e+00], [4.1300e+00, 8.5300e-01], [1.5380e+00, 4.5290e+00], [-3.6200e-01, 1.0630e+00], [4.7810e+00, 2.9150e+00], [5.3300e-01, 2.8280e+00], [1.2730e+00, 2.9690e+00], [-8.8300e-01, 1.3340e+00], [4.0450e+00, 2.6110e+00], [3.7260e+00, 5.5660e+00], [2.7230e+00, 3.3920e+00], [2.2310e+00, 5.2760e+00], [1.5430e+00, 3.7160e+00], [1.0630e+00, 5.7090e+00], [3.3990e+00, 4.3810e+00], [3.2450e+00, 4.7550e+00], [1.1010e+00, 2.0880e+00], [1.3790e+00, 2.1710e+00], [1.0730e+00, 5.9400e-01], [5.2100e-01, 1.7760e+00], [1.0800e+00, 3.9720e+00], [4.1340e+00, 3.3150e+00], [2.5440e+00, 6.7890e+00], [2.6720e+00, 5.2650e+00], [5.0090e+00, 8.0710e+00], [2.1410e+00, 5.5590e+00], [2.7160e+00, 2.3790e+00], [1.6790e+00, 3.0100e+00], [5.0200e-01, 4.8190e+00], [3.1000e-02, 1.2520e+00], [1.5720e+00, 4.6100e-01], [1.4960e+00, 1.1180e+00], [3.4720e+00, 1.7670e+00], [9.3600e-01, 4.0700e+00], [3.8240e+00, 3.5080e+00], [2.1420e+00, 4.9250e+00], [3.4310e+00, 4.2400e+00], [-3.3800e-01, 5.8000e-01], [3.2140e+00, 1.5130e+00], [2.6390e+00, 6.3080e+00], [3.8520e+00, 6.2160e+00], [9.6200e-01, 3.0010e+00], [1.9440e+00, 1.5680e+00], [3.6020e+00, 6.0220e+00], [-7.2000e-02, 3.2400e-01], [2.5340e+00, 4.8140e+00], [2.6870e+00, 7.8000e-01], [3.5360e+00, 5.9460e+00], [3.9180e+00, 3.0260e+00], [1.0880e+00, 2.2730e+00], [4.3920e+00, 6.1700e-01], [2.5950e+00, 7.8030e+00], [2.8350e+00, 4.2830e+00], [3.9680e+00, 4.9200e+00], [2.1060e+00, 4.5850e+00], [4.6300e-01, 2.0670e+00], [1.1330e+00, 2.8020e+00], [1.8320e+00, 1.1690e+00], [5.7400e-01, 2.9950e+00], [2.4630e+00, 1.8440e+00], [8.5600e-01, 3.5800e+00], [2.6050e+00, 1.2480e+00], [2.5310e+00, 3.5170e+00], [3.0130e+00, 2.5390e+00], [5.5720e+00, 2.7910e+00], [9.1600e-01, 2.1120e+00], [2.4150e+00, 6.7470e+00], [2.4030e+00, 1.2150e+00], [1.9700e+00, 2.2240e+00], [2.4050e+00, 3.0290e+00], [3.6160e+00, 9.9700e-01], [2.0910e+00, 3.7380e+00], [9.7200e-01, 3.9920e+00], [-9.7000e-02, 3.0150e+00], [2.1050e+00, 5.0800e-01], [3.0820e+00, 3.1520e+00], [1.6680e+00, 1.5610e+00], [2.1670e+00, 1.4380e+00], [3.7200e+00, 4.5660e+00], [1.0750e+00, 4.4280e+00], [6.2800e-01, 3.6630e+00], [1.6780e+00, 1.3140e+00], [3.0490e+00, 3.0490e+00], [5.2600e-01, 5.0550e+00], [1.7150e+00, 9.6400e-01], [2.5710e+00, 3.0690e+00], [1.2510e+00, 1.1100e-01], [4.7890e+00, 4.0600e+00], [3.8510e+00, 1.1900e-01], [-1.0900e-01, 2.5920e+00], [8.8100e-01, 6.1240e+00], [2.6200e+00, 2.2700e-01], [2.3590e+00, 5.2540e+00], [-3.1300e-01, 1.6170e+00], [-1.2470e+00, 3.6130e+00], [2.9930e+00, 4.9100e-01], [3.8180e+00, 4.0990e+00], [4.8400e-01, 4.0530e+00], [-4.2600e-01, 4.3080e+00], [4.0270e+00, 4.2260e+00], [3.0610e+00, 5.0200e-01], [1.7170e+00, 3.0300e+00], [1.1340e+00, 1.4590e+00], [-1.9500e-01, 5.1530e+00], [8.0700e-01, 1.9590e+00], [2.8910e+00, 9.1300e-01], [1.9850e+00, 2.9400e+00], [1.1690e+00, 5.2320e+00], [2.2380e+00, 1.0243e+01], [2.4660e+00, 2.0100e-01], [7.2100e-01, 3.9380e+00], [2.8370e+00, 7.6700e-01], [2.6190e+00, 3.5240e+00], [1.3880e+00, 5.0060e+00], [2.3880e+00, 5.7760e+00], [9.2800e-01, 4.7520e+00], [2.6020e+00, 4.6140e+00], [2.5160e+00, 8.5460e+00], [3.3370e+00, 6.2980e+00], [2.8050e+00, 6.4690e+00], [-9.0200e-01, 4.5020e+00], [3.0980e+00, 4.0000e-03], [3.2200e+00, 3.8370e+00], [3.0380e+00, 2.3110e+00], [1.8470e+00, 2.2530e+00], [3.8750e+00, 5.5480e+00], [1.9740e+00, 2.0570e+00], [1.9040e+00, 3.5900e+00], [6.9900e-01, 2.9840e+00], [7.5100e-01, 4.4880e+00], [3.5030e+00, 6.6200e-01], [5.1120e+00, 6.7660e+00], [1.3910e+00, 3.9180e+00], [4.3860e+00, 4.4050e+00], [1.5050e+00, 3.3680e+00], [-7.8800e-01, 3.6800e-01], [4.9900e-01, 7.1190e+00], [1.4150e+00, 1.5970e+00], [3.0200e-01, 3.8040e+00], [2.9780e+00, 4.1820e+00], [1.1750e+00, 3.2880e+00], [-7.6100e-01, 2.5380e+00], [1.4640e+00, 4.4950e+00], [1.5480e+00, 3.5000e-02], [2.6310e+00, 4.0330e+00], [3.7820e+00, 4.1640e+00], [2.0910e+00, 1.7810e+00], [4.3000e-02, 3.8070e+00], [1.8360e+00, 5.4490e+00]])"
   ]
  },
  {
   "cell_type": "markdown",
   "id": "d6be949b",
   "metadata": {},
   "source": [
    "**Problem 4a**\n",
    "\n",
    "Plot a 2d histogram to get a sense of the joint p.d.f."
   ]
  },
  {
   "cell_type": "code",
   "execution_count": 286,
   "id": "837433df",
   "metadata": {},
   "outputs": [
    {
     "data": {
      "image/png": "[encoded data removed]",
      "text/plain": [
       "<Figure size 432x288 with 1 Axes>"
      ]
     },
     "metadata": {
      "needs_background": "light"
     },
     "output_type": "display_data"
    }
   ],
   "source": [
    "hist = plt.hist2d(z[:,0], z[:,1], density=True) # Needs to be normalized!\n",
    "plt.xlabel(r'$x$');\n",
    "plt.ylabel(r'$y$');"
   ]
  },
  {
   "cell_type": "markdown",
   "id": "3349d499",
   "metadata": {},
   "source": [
    "**Problem 4b**\n",
    "\n",
    "Plot the marginal distribution along the first axis (the one that is often generically called \"x\"), $f_x(x)$."
   ]
  },
  {
   "cell_type": "code",
   "execution_count": 287,
   "id": "98f42a3b",
   "metadata": {},
   "outputs": [
    {
     "data": {
      "image/png": "[encoded data removed]",
      "text/plain": [
       "<Figure size 432x288 with 1 Axes>"
      ]
     },
     "metadata": {
      "needs_background": "light"
     },
     "output_type": "display_data"
    }
   ],
   "source": [
    "dx, dy = np.abs(hist[1][1]-hist[1][0]), np.abs(hist[2][1]-hist[2][0])\n",
    "fx = np.sum(hist[0], axis=1)\n",
    "x = 0.5*(hist[1][1:]+hist[1][:-1]) # x array is defined at the bin midpoints along x-direction\n",
    "\n",
    "normalized_fx = np.divide(fx, np.sum(fx*dx)) # Normalize by the total area\n",
    "\n",
    "plt.scatter(x, normalized_fx)\n",
    "plt.xlabel(r'$x$');\n",
    "plt.ylabel(r'$f_x(x)$');"
   ]
  },
  {
   "cell_type": "markdown",
   "id": "c7da0675",
   "metadata": {},
   "source": [
    "**Problem 4c**\n",
    "\n",
    "Plot the marginal distribution along the second axis (the one that is often generically called \"y\"), $f_y(y)$."
   ]
  },
  {
   "cell_type": "code",
   "execution_count": 288,
   "id": "965c4950",
   "metadata": {},
   "outputs": [
    {
     "data": {
      "image/png": "[encoded data removed]",
      "text/plain": [
       "<Figure size 432x288 with 1 Axes>"
      ]
     },
     "metadata": {
      "needs_background": "light"
     },
     "output_type": "display_data"
    }
   ],
   "source": [
    "fy = np.sum(hist[0], axis=0)\n",
    "y = 0.5*(hist[2][1:]+hist[2][:-1]) # x array is defined at the bin midpoints along x-direction\n",
    "\n",
    "normalized_fy = np.divide(fy, np.sum(fy*dy)) # Normalize by the total area\n",
    "\n",
    "plt.scatter(y, normalized_fy)\n",
    "plt.xlabel(r'$y$');\n",
    "plt.ylabel(r'$f_y(y)$');"
   ]
  },
  {
   "cell_type": "markdown",
   "id": "e32af8f9",
   "metadata": {},
   "source": [
    "**Problem 4d**\n",
    "\n",
    "Which axis has more variance? Could you tell this from your plot of the joint distribution? "
   ]
  },
  {
   "cell_type": "code",
   "execution_count": 289,
   "metadata": {},
   "outputs": [
    {
     "name": "stdout",
     "output_type": "stream",
     "text": [
      "1.112108593852418 4.036444388371887\n"
     ]
    }
   ],
   "source": [
    "E_x2 = np.sum(np.multiply(normalized_fx, np.power(x,2)))\n",
    "E_x = np.sum(np.multiply(normalized_fx, x))\n",
    "varx = E_x2-E_x*E_x\n",
    "\n",
    "E_y2 = np.sum(np.multiply(normalized_fy, np.power(y,2)))\n",
    "E_y = np.sum(np.multiply(normalized_fy, y))\n",
    "vary = E_y2-E_y*E_y\n",
    "\n",
    "print(varx, vary)"
   ]
  },
  {
   "cell_type": "markdown",
   "id": "c973be10",
   "metadata": {},
   "source": [
    "$x$-axis:<br>\n",
    "$E[x^2]=\\sum x^2f_x(x)$<br>\n",
    "$E[x]=\\sum xf_x(x)$<br>\n",
    "$\\sigma_x^2=E[x^2]-(E[x])^2$\n",
    "<br><br>\n",
    "$y$-axis:<br>\n",
    "$E[y^2]=\\sum y^2f_y(y)$<br>\n",
    "$E[y]=\\sum yf_y(y)$<br>\n",
    "$\\sigma_y^2=E[y^2]-(E[y])^2$\n",
    "<br><br>\n",
    "We find variances of $\\sigma_x^2\\sim 1.112$ and $\\sigma_y^2\\sim 4.036$ -- there is more variance along $y$.<br><br>\n",
    "The joint distribution histogram looks a bit like an oval stretched more along the $x$-axis, suggesting a higher $x$ variance, but the scaling is also slightly different between the $x$ and $y$ axes by default, so it can be misleading. I.e. the joint distribution did not suggest, at a glance, that the $y$ variance was higher, as I've now found."
   ]
  },
  {
   "cell_type": "markdown",
   "id": "628b109f",
   "metadata": {},
   "source": [
    "**Problem 4e**\n",
    "\n",
    "Plot the conditional $h(y|x)$, for $x$ given to be between 1 and 1.75. \n",
    "\n",
    "Does this distribution look different from $f_y(y)$? Which of these two has a higher median? Are $x$ and $y$ positively or negatively correlated? "
   ]
  },
  {
   "cell_type": "code",
   "execution_count": 290,
   "id": "d261a952",
   "metadata": {},
   "outputs": [
    {
     "data": {
      "image/png": "[encoded data removed]",
      "text/plain": [
       "<Figure size 432x288 with 1 Axes>"
      ]
     },
     "metadata": {
      "needs_background": "light"
     },
     "output_type": "display_data"
    },
    {
     "data": {
      "image/png": "[encoded data removed]",
      "text/plain": [
       "<Figure size 432x288 with 1 Axes>"
      ]
     },
     "metadata": {
      "needs_background": "light"
     },
     "output_type": "display_data"
    }
   ],
   "source": [
    "# print(np.argwhere((x>1)&(x<1.75)))\n",
    "# print(fx[np.argwhere((x>1)&(x<1.75))])\n",
    "# h = np.matmul(hist[0], np.power(fx[np.argwhere((x>1)&(x<1.75))],-1)) \n",
    "\n",
    "h = np.matmul(hist[0], np.power(normalized_fx,-1)) # Matrix multiplication\n",
    "normalized_h = np.divide(h, np.sum(h*dy)) # Normalize by the total area\n",
    "plt.scatter(y, normalized_h);\n",
    "plt.figure()\n",
    "plt.scatter(y, normalized_fy);\n",
    "\n",
    "# rho=V_xy/(sigma_x*sigma_y),  V_xy=(\\int\\int (xy)f(x,y)dxdy)-(\\int xf_x(x)dx)(\\int yf_y(y)dy)"
   ]
  },
  {
   "cell_type": "markdown",
   "id": "45492d50",
   "metadata": {},
   "source": [
    "*write your answer here*\n"
   ]
  },
  {
   "cell_type": "code",
   "execution_count": null,
   "metadata": {},
   "outputs": [],
   "source": []
  }
 ],
 "metadata": {
  "kernelspec": {
   "display_name": "Python 3",
   "language": "python",
   "name": "python3"
  },
  "language_info": {
   "codemirror_mode": {
    "name": "ipython",
    "version": 3
   },
   "file_extension": ".py",
   "mimetype": "text/x-python",
   "name": "python",
   "nbconvert_exporter": "python",
   "pygments_lexer": "ipython3",
   "version": "3.7.10"
  }
 },
 "nbformat": 4,
 "nbformat_minor": 5
}
